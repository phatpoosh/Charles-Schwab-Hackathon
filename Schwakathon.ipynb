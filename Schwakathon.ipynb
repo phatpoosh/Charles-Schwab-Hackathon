{
 "cells": [
  {
   "cell_type": "markdown",
   "metadata": {},
   "source": [
    "# <h1><center> Schwakathon</center></h1>\n",
    "## <h2><center>Keeping it in the Family</center></h2>\n",
    "### <h3><center>Team E</center></h3>"
   ]
  },
  {
   "cell_type": "markdown",
   "metadata": {},
   "source": [
    "### REI Modeling"
   ]
  },
  {
   "cell_type": "code",
   "execution_count": 50,
   "metadata": {
    "scrolled": true
   },
   "outputs": [
    {
     "name": "stdout",
     "output_type": "stream",
     "text": [
      "Populating the interactive namespace from numpy and matplotlib\n"
     ]
    }
   ],
   "source": [
    "from pandas import Series, DataFrame\n",
    "import pandas as pd\n",
    "import re\n",
    "import warnings\n",
    "warnings.filterwarnings('ignore')\n",
    "%pylab inline"
   ]
  },
  {
   "cell_type": "markdown",
   "metadata": {},
   "source": [
    "### Read and cleaning the data"
   ]
  },
  {
   "cell_type": "code",
   "execution_count": 51,
   "metadata": {},
   "outputs": [],
   "source": [
    "df = pd.read_csv('Churn_Modelling(1).csv')"
   ]
  },
  {
   "cell_type": "markdown",
   "metadata": {},
   "source": [
    "##### Drop unused features"
   ]
  },
  {
   "cell_type": "code",
   "execution_count": 52,
   "metadata": {},
   "outputs": [],
   "source": [
    "df_2 = df.drop(['CustomerId','NumOfProducts',' Large S/P ', ' Large B/P ', ' Large ROE ', ' Large Return Rate in the last quarter ', ' Large Market Value '],axis =1)"
   ]
  },
  {
   "cell_type": "markdown",
   "metadata": {},
   "source": [
    "##### Transform categorical variables into dummy variables (needed for random forest modeling)"
   ]
  },
  {
   "cell_type": "code",
   "execution_count": 53,
   "metadata": {},
   "outputs": [],
   "source": [
    "df_2 = pd.get_dummies(df_2, columns=['InvestmentGoal', 'ModeCommunication'])"
   ]
  },
  {
   "cell_type": "markdown",
   "metadata": {},
   "source": [
    "##### Split data into x and y for supervised learning"
   ]
  },
  {
   "cell_type": "code",
   "execution_count": 54,
   "metadata": {},
   "outputs": [],
   "source": [
    "y = df_2.Exited\n",
    "y = y.to_frame()\n",
    "\n",
    "x = df_2.drop('Exited', axis = 1)"
   ]
  },
  {
   "cell_type": "markdown",
   "metadata": {},
   "source": [
    "### Random Forest Modeling"
   ]
  },
  {
   "cell_type": "code",
   "execution_count": 55,
   "metadata": {
    "scrolled": true
   },
   "outputs": [
    {
     "data": {
      "text/plain": [
       "RandomForestClassifier(bootstrap=True, class_weight=None, criterion='gini',\n",
       "            max_depth=None, max_features='auto', max_leaf_nodes=None,\n",
       "            min_impurity_decrease=0.0, min_impurity_split=None,\n",
       "            min_samples_leaf=1, min_samples_split=2,\n",
       "            min_weight_fraction_leaf=0.0, n_estimators=1000, n_jobs=1,\n",
       "            oob_score=False, random_state=None, verbose=0,\n",
       "            warm_start=False)"
      ]
     },
     "execution_count": 55,
     "metadata": {},
     "output_type": "execute_result"
    }
   ],
   "source": [
    "#Import Random Forest Model\n",
    "from sklearn.ensemble import RandomForestClassifier\n",
    "\n",
    "#Create a Gaussian Classifier\n",
    "clf=RandomForestClassifier(n_estimators=1000)\n",
    "\n",
    "#Train the model using the training sets y_pred=clf.predict(X_test)\n",
    "clf.fit(x,y)"
   ]
  },
  {
   "cell_type": "markdown",
   "metadata": {},
   "source": [
    "##### Display Important Features"
   ]
  },
  {
   "cell_type": "code",
   "execution_count": 56,
   "metadata": {},
   "outputs": [
    {
     "data": {
      "text/plain": [
       "rating_trust                  0.378807\n",
       "Frequency                     0.277884\n",
       "Recency                       0.145592\n",
       "Age                           0.051361\n",
       "Financial_lit                 0.025411\n",
       "comments                      0.021077\n",
       "CreditScore                   0.011538\n",
       "PortfolioSize                 0.011099\n",
       "Advisor_Age                   0.007661\n",
       "NumberOfClients               0.007205\n",
       "Annual Return                 0.007061\n",
       "Systematic Risk               0.006873\n",
       "Tenure                        0.006223\n",
       "Excess Return                 0.005976\n",
       "rating_avail                  0.004619\n",
       "rating_comm                   0.004522\n",
       "Monetory                      0.003834\n",
       "Gender                        0.003685\n",
       " Small systematic Risk        0.003324\n",
       "rating_knowledge              0.002577\n",
       "Children(Y/N)                 0.001597\n",
       "InvestmentGoal_Education      0.001569\n",
       "other_advisors                0.001499\n",
       "ModeCommunication_skype       0.001384\n",
       "InvestmentGoal_Retirement     0.001372\n",
       "ModeCommunication_email       0.001363\n",
       "InvestmentGoal_Short-term     0.001333\n",
       "ModeCommunication_phone       0.001263\n",
       "ModeCommunication_personal    0.001146\n",
       "Retired                       0.001146\n",
       "dtype: float64"
      ]
     },
     "execution_count": 56,
     "metadata": {},
     "output_type": "execute_result"
    }
   ],
   "source": [
    "feature_imp = pd.Series(clf.feature_importances_, index= x.columns.values).sort_values(ascending=False)\n",
    "feature_imp"
   ]
  },
  {
   "cell_type": "markdown",
   "metadata": {},
   "source": [
    "#####  Predict the REI of the data"
   ]
  },
  {
   "cell_type": "code",
   "execution_count": 57,
   "metadata": {},
   "outputs": [],
   "source": [
    "pred = clf.predict_proba(x)"
   ]
  },
  {
   "cell_type": "code",
   "execution_count": 58,
   "metadata": {},
   "outputs": [],
   "source": [
    "REI = pred[:,1]\n",
    "REI = pd.DataFrame(REI)\n",
    "x['REI']= REI"
   ]
  },
  {
   "cell_type": "markdown",
   "metadata": {},
   "source": [
    "#### Looking at the distribution of the REI we identified the thresholds of the high,low and medium risk"
   ]
  },
  {
   "cell_type": "code",
   "execution_count": 59,
   "metadata": {},
   "outputs": [
    {
     "data": {
      "text/plain": [
       "(array([7858.,   85.,   20.,    0.,    0.,    0.,   25.,   93.,   91.,\n",
       "        1828.]),\n",
       " array([0. , 0.1, 0.2, 0.3, 0.4, 0.5, 0.6, 0.7, 0.8, 0.9, 1. ]),\n",
       " <a list of 10 Patch objects>)"
      ]
     },
     "execution_count": 59,
     "metadata": {},
     "output_type": "execute_result"
    },
    {
     "data": {
      "image/png": "[encoded data removed]",
      "text/plain": [
       "<Figure size 432x288 with 1 Axes>"
      ]
     },
     "metadata": {},
     "output_type": "display_data"
    }
   ],
   "source": [
    "hist(x['REI'])"
   ]
  },
  {
   "cell_type": "markdown",
   "metadata": {},
   "source": [
    "### XGBoost"
   ]
  },
  {
   "cell_type": "code",
   "execution_count": 60,
   "metadata": {},
   "outputs": [],
   "source": [
    "x2 = x.drop(['REI'],axis =1)"
   ]
  },
  {
   "cell_type": "code",
   "execution_count": 61,
   "metadata": {},
   "outputs": [
    {
     "data": {
      "text/plain": [
       "XGBClassifier(base_score=0.5, booster='gbtree', colsample_bylevel=1,\n",
       "       colsample_bytree=1, gamma=0, learning_rate=0.1, max_delta_step=0,\n",
       "       max_depth=3, min_child_weight=1, missing=None, n_estimators=100,\n",
       "       n_jobs=1, nthread=None, objective='binary:logistic', random_state=0,\n",
       "       reg_alpha=0, reg_lambda=1, scale_pos_weight=1, seed=None,\n",
       "       silent=True, subsample=1)"
      ]
     },
     "execution_count": 61,
     "metadata": {},
     "output_type": "execute_result"
    }
   ],
   "source": [
    "from xgboost import XGBClassifier\n",
    "model = XGBClassifier()\n",
    "model.fit(x2, y)"
   ]
  },
  {
   "cell_type": "markdown",
   "metadata": {},
   "source": [
    "#### Important XGBoost features"
   ]
  },
  {
   "cell_type": "code",
   "execution_count": 62,
   "metadata": {},
   "outputs": [
    {
     "data": {
      "text/plain": [
       "rating_trust                  0.260586\n",
       "Frequency                     0.244300\n",
       "Recency                       0.192182\n",
       "Age                           0.104235\n",
       "Financial_lit                 0.087948\n",
       "Gender                        0.026059\n",
       "PortfolioSize                 0.022801\n",
       "CreditScore                   0.016287\n",
       "comments                      0.013029\n",
       "InvestmentGoal_Retirement     0.006515\n",
       "Excess Return                 0.006515\n",
       "Advisor_Age                   0.003257\n",
       " Small systematic Risk        0.003257\n",
       "ModeCommunication_phone       0.003257\n",
       "NumberOfClients               0.003257\n",
       "other_advisors                0.003257\n",
       "rating_comm                   0.003257\n",
       "Systematic Risk               0.000000\n",
       "rating_knowledge              0.000000\n",
       "Annual Return                 0.000000\n",
       "Monetory                      0.000000\n",
       "rating_avail                  0.000000\n",
       "InvestmentGoal_Education      0.000000\n",
       "Tenure                        0.000000\n",
       "Children(Y/N)                 0.000000\n",
       "Retired                       0.000000\n",
       "InvestmentGoal_Short-term     0.000000\n",
       "ModeCommunication_email       0.000000\n",
       "ModeCommunication_personal    0.000000\n",
       "ModeCommunication_skype       0.000000\n",
       "dtype: float32"
      ]
     },
     "execution_count": 62,
     "metadata": {},
     "output_type": "execute_result"
    }
   ],
   "source": [
    "feature_imp_xg = pd.Series(model.feature_importances_, index= x2.columns.values).sort_values(ascending=False)\n",
    "feature_imp_xg"
   ]
  },
  {
   "cell_type": "markdown",
   "metadata": {},
   "source": [
    "#####  Get only the high-risk clients"
   ]
  },
  {
   "cell_type": "code",
   "execution_count": 63,
   "metadata": {},
   "outputs": [],
   "source": [
    "# x2 = high risk clients\n",
    "x2 = x[x['REI'] > 0.8]"
   ]
  },
  {
   "cell_type": "markdown",
   "metadata": {},
   "source": [
    "##### Cluster within the high-risk group of clients"
   ]
  },
  {
   "cell_type": "code",
   "execution_count": 64,
   "metadata": {},
   "outputs": [],
   "source": [
    "from sklearn.cluster import KMeans\n",
    "#use 3 clusters\n",
    "clus_num = 3\n",
    "kmeans = KMeans(clus_num,random_state=50).fit(x2)\n"
   ]
  },
  {
   "cell_type": "code",
   "execution_count": 65,
   "metadata": {},
   "outputs": [],
   "source": [
    "cluster1 = x2[kmeans.labels_==0]\n",
    "cluster2 = x2[kmeans.labels_==1]\n",
    "cluster3 = x2[kmeans.labels_==2]"
   ]
  },
  {
   "cell_type": "markdown",
   "metadata": {},
   "source": [
    "### Questionnaire to client"
   ]
  },
  {
   "cell_type": "markdown",
   "metadata": {},
   "source": [
    "##### Answers are taken into account to determine REI of client"
   ]
  },
  {
   "cell_type": "code",
   "execution_count": 66,
   "metadata": {
    "scrolled": true
   },
   "outputs": [
    {
     "name": "stdout",
     "output_type": "stream",
     "text": [
      "*************************************************************************************\n",
      "*************************************************************************************\n",
      "\t\t\t\t\t\tTTPK ADVISORS\n",
      "*************************************************************************************\n",
      "\t\t\t\t\t\tQUESTIONAIRE\n",
      "*************************************************************************************\n",
      "*************************************************************************************\n",
      "Q1. How would you rate the expertise of your advisor from 1 to 5\n",
      "1\n",
      "Q2. How would you rate the communication with your advisor from 1 to 5\n",
      "2\n",
      "Q3. How would you rate the level of trust with your advisor from 1 to 5\n",
      "3\n",
      "Q4. How would you rate the availability of your advisor from 1 to 5\n",
      "4\n",
      "Q5. How would you rate your financial literacy from 1 to 5\n",
      "5\n",
      "Q6. How many assets do you have assets outside this organization ?\n",
      "1\n",
      "Comments:\n",
      "Very good!\n"
     ]
    }
   ],
   "source": [
    "print('*************************************************************************************')\n",
    "print('*************************************************************************************')\n",
    "print('\\t\\t\\t\\t\\t\\tTTPK ADVISORS')\n",
    "print('*************************************************************************************')\n",
    "print('\\t\\t\\t\\t\\t\\tQUESTIONAIRE')\n",
    "print('*************************************************************************************')\n",
    "print('*************************************************************************************')\n",
    "print('Q1. How would you rate the expertise of your advisor from 1 to 5')\n",
    "expertise = input()\n",
    "print('Q2. How would you rate the communication with your advisor from 1 to 5')\n",
    "communication = input()\n",
    "print('Q3. How would you rate the level of trust with your advisor from 1 to 5')\n",
    "trust = input()\n",
    "print('Q4. How would you rate the availability of your advisor from 1 to 5')\n",
    "availability = input()\n",
    "print('Q5. How would you rate your financial literacy from 1 to 5')\n",
    "fin_lit = input()\n",
    "print('Q6. How many assets do you have assets outside this organization ?')\n",
    "comp = input()\n",
    "print('Comments:')\n",
    "comments = input()"
   ]
  },
  {
   "cell_type": "markdown",
   "metadata": {},
   "source": [
    "#####  Get a random test client"
   ]
  },
  {
   "cell_type": "code",
   "execution_count": 67,
   "metadata": {},
   "outputs": [],
   "source": [
    "x[:5].to_csv('test_data.csv')"
   ]
  },
  {
   "cell_type": "code",
   "execution_count": 68,
   "metadata": {},
   "outputs": [],
   "source": [
    "test_data = pd.read_csv('test_data.csv')"
   ]
  },
  {
   "cell_type": "code",
   "execution_count": 69,
   "metadata": {},
   "outputs": [],
   "source": [
    "test_data = test_data.drop(['Financial_lit','rating_trust','other_advisors', 'rating_knowledge', 'rating_comm', 'rating_avail', 'REI'],axis =1)\n",
    "test_data = test_data.drop(test_data.columns[0], axis=1)\n"
   ]
  },
  {
   "cell_type": "markdown",
   "metadata": {},
   "source": [
    "##### Add answers of questionnaire to data"
   ]
  },
  {
   "cell_type": "code",
   "execution_count": 70,
   "metadata": {},
   "outputs": [
    {
     "name": "stdout",
     "output_type": "stream",
     "text": [
      "\n",
      "The following command must be run outside of the IPython shell:\n",
      "\n",
      "    $ pip install vaderSentiment\n",
      "\n",
      "The Python package manager (pip) can only be used from outside of IPython.\n",
      "Please reissue the `pip` command in a separate terminal or command prompt.\n",
      "\n",
      "See the Python documentation for more information on how to install packages:\n",
      "\n",
      "    https://docs.python.org/3/installing/\n"
     ]
    }
   ],
   "source": [
    "pip install vaderSentiment"
   ]
  },
  {
   "cell_type": "markdown",
   "metadata": {},
   "source": [
    "### Sentiment Analysis of customer feedback"
   ]
  },
  {
   "cell_type": "code",
   "execution_count": 71,
   "metadata": {},
   "outputs": [],
   "source": [
    "from vaderSentiment.vaderSentiment import SentimentIntensityAnalyzer\n",
    "analyser = SentimentIntensityAnalyzer()"
   ]
  },
  {
   "cell_type": "code",
   "execution_count": 72,
   "metadata": {},
   "outputs": [],
   "source": [
    "def sentiment_analyzer_scores(sentence):\n",
    "    score = analyser.polarity_scores(sentence)['compound']\n",
    "    return score"
   ]
  },
  {
   "cell_type": "code",
   "execution_count": 73,
   "metadata": {},
   "outputs": [
    {
     "data": {
      "text/plain": [
       "0.54"
      ]
     },
     "execution_count": 73,
     "metadata": {},
     "output_type": "execute_result"
    }
   ],
   "source": [
    "compound_score = sentiment_analyzer_scores(comments)\n",
    "compound_score"
   ]
  },
  {
   "cell_type": "code",
   "execution_count": 74,
   "metadata": {
    "scrolled": true
   },
   "outputs": [],
   "source": [
    "import random as random\n",
    "test = pd.DataFrame(test_data.iloc[random.randint(0,4)]).transpose()\n",
    "test\n",
    "test['Financial_lit']=fin_lit\n",
    "test['rating_trust']= trust\n",
    "test['other_advisors']=comp\n",
    "test['rating_knowledge']= expertise\n",
    "test['rating_comm']=communication\n",
    "test['rating_avail']= availability\n",
    "test['comments'] = compound_score"
   ]
  },
  {
   "cell_type": "markdown",
   "metadata": {},
   "source": [
    "### Predict REI of test client"
   ]
  },
  {
   "cell_type": "code",
   "execution_count": 77,
   "metadata": {},
   "outputs": [
    {
     "name": "stdout",
     "output_type": "stream",
     "text": [
      "Medium Risk\n"
     ]
    }
   ],
   "source": [
    "pred2 = clf.predict_proba(test)\n",
    "pred2[:,1]\n",
    "if(pred2[:,1] >0.8):\n",
    "    print('High Risk')\n",
    "elif(pred2[:,1]<0.2):\n",
    "    print('Low Risk')\n",
    "else:\n",
    "    print('Medium Risk')"
   ]
  },
  {
   "cell_type": "code",
   "execution_count": 78,
   "metadata": {},
   "outputs": [],
   "source": [
    "test_clust = test\n",
    "test_clust['REI'] = pred2[:,1]"
   ]
  },
  {
   "cell_type": "markdown",
   "metadata": {},
   "source": [
    "##### Determine which cluster the test client belongs to"
   ]
  },
  {
   "cell_type": "code",
   "execution_count": 79,
   "metadata": {},
   "outputs": [
    {
     "data": {
      "text/plain": [
       "array([0])"
      ]
     },
     "execution_count": 79,
     "metadata": {},
     "output_type": "execute_result"
    }
   ],
   "source": [
    "kmeans.predict(test)"
   ]
  },
  {
   "cell_type": "code",
   "execution_count": 80,
   "metadata": {},
   "outputs": [],
   "source": [
    "x.to_csv('RandomForest_data.csv')\n",
    "cluster1.to_csv('cluster1.csv')\n",
    "cluster2.to_csv('cluster2.csv')\n",
    "cluster3.to_csv('cluster3.csv')"
   ]
  },
  {
   "cell_type": "markdown",
   "metadata": {},
   "source": [
    "#### Cluster attributes"
   ]
  },
  {
   "cell_type": "code",
   "execution_count": 81,
   "metadata": {},
   "outputs": [],
   "source": [
    "cluster1_data = cluster1.drop(['REI'],axis =1)\n",
    "cluster1_y = cluster1['REI']\n",
    "from sklearn import linear_model\n",
    "reg1 = linear_model.LinearRegression(fit_intercept = False)\n",
    "reg1.fit(cluster1_data,cluster1_y)\n",
    "params = reg1.coef_\n",
    "predictions = reg1.predict(cluster1_data)"
   ]
  },
  {
   "cell_type": "code",
   "execution_count": 82,
   "metadata": {},
   "outputs": [],
   "source": [
    "parameters = pd.DataFrame({'terms': list(cluster1_data),'coef':params})"
   ]
  },
  {
   "cell_type": "code",
   "execution_count": 83,
   "metadata": {},
   "outputs": [
    {
     "data": {
      "text/html": [
       "<div>\n",
       "<style scoped>\n",
       "    .dataframe tbody tr th:only-of-type {\n",
       "        vertical-align: middle;\n",
       "    }\n",
       "\n",
       "    .dataframe tbody tr th {\n",
       "        vertical-align: top;\n",
       "    }\n",
       "\n",
       "    .dataframe thead th {\n",
       "        text-align: right;\n",
       "    }\n",
       "</style>\n",
       "<table border=\"1\" class=\"dataframe\">\n",
       "  <thead>\n",
       "    <tr style=\"text-align: right;\">\n",
       "      <th></th>\n",
       "      <th>terms</th>\n",
       "      <th>coef</th>\n",
       "    </tr>\n",
       "  </thead>\n",
       "  <tbody>\n",
       "    <tr>\n",
       "      <th>25</th>\n",
       "      <td>InvestmentGoal_Short-term</td>\n",
       "      <td>6.165082e-01</td>\n",
       "    </tr>\n",
       "    <tr>\n",
       "      <th>24</th>\n",
       "      <td>InvestmentGoal_Retirement</td>\n",
       "      <td>6.160333e-01</td>\n",
       "    </tr>\n",
       "    <tr>\n",
       "      <th>23</th>\n",
       "      <td>InvestmentGoal_Education</td>\n",
       "      <td>6.151686e-01</td>\n",
       "    </tr>\n",
       "    <tr>\n",
       "      <th>27</th>\n",
       "      <td>ModeCommunication_personal</td>\n",
       "      <td>4.646317e-01</td>\n",
       "    </tr>\n",
       "    <tr>\n",
       "      <th>26</th>\n",
       "      <td>ModeCommunication_email</td>\n",
       "      <td>4.618824e-01</td>\n",
       "    </tr>\n",
       "    <tr>\n",
       "      <th>28</th>\n",
       "      <td>ModeCommunication_phone</td>\n",
       "      <td>4.614558e-01</td>\n",
       "    </tr>\n",
       "    <tr>\n",
       "      <th>29</th>\n",
       "      <td>ModeCommunication_skype</td>\n",
       "      <td>4.597402e-01</td>\n",
       "    </tr>\n",
       "    <tr>\n",
       "      <th>11</th>\n",
       "      <td>Annual Return</td>\n",
       "      <td>7.417298e-02</td>\n",
       "    </tr>\n",
       "    <tr>\n",
       "      <th>16</th>\n",
       "      <td>Financial_lit</td>\n",
       "      <td>1.725283e-03</td>\n",
       "    </tr>\n",
       "    <tr>\n",
       "      <th>21</th>\n",
       "      <td>rating_avail</td>\n",
       "      <td>1.084903e-03</td>\n",
       "    </tr>\n",
       "    <tr>\n",
       "      <th>6</th>\n",
       "      <td>Tenure</td>\n",
       "      <td>2.176399e-04</td>\n",
       "    </tr>\n",
       "    <tr>\n",
       "      <th>20</th>\n",
       "      <td>rating_comm</td>\n",
       "      <td>3.539723e-05</td>\n",
       "    </tr>\n",
       "    <tr>\n",
       "      <th>0</th>\n",
       "      <td>CreditScore</td>\n",
       "      <td>3.796430e-06</td>\n",
       "    </tr>\n",
       "    <tr>\n",
       "      <th>15</th>\n",
       "      <td>PortfolioSize</td>\n",
       "      <td>-3.235004e-08</td>\n",
       "    </tr>\n",
       "    <tr>\n",
       "      <th>3</th>\n",
       "      <td>Advisor_Age</td>\n",
       "      <td>-2.930462e-05</td>\n",
       "    </tr>\n",
       "    <tr>\n",
       "      <th>14</th>\n",
       "      <td>NumberOfClients</td>\n",
       "      <td>-4.944978e-05</td>\n",
       "    </tr>\n",
       "    <tr>\n",
       "      <th>2</th>\n",
       "      <td>Age</td>\n",
       "      <td>-1.342116e-04</td>\n",
       "    </tr>\n",
       "    <tr>\n",
       "      <th>19</th>\n",
       "      <td>rating_knowledge</td>\n",
       "      <td>-3.048616e-04</td>\n",
       "    </tr>\n",
       "    <tr>\n",
       "      <th>10</th>\n",
       "      <td>Small systematic Risk</td>\n",
       "      <td>-3.128559e-04</td>\n",
       "    </tr>\n",
       "    <tr>\n",
       "      <th>9</th>\n",
       "      <td>Monetory</td>\n",
       "      <td>-5.879907e-04</td>\n",
       "    </tr>\n",
       "    <tr>\n",
       "      <th>1</th>\n",
       "      <td>Gender</td>\n",
       "      <td>-6.320248e-04</td>\n",
       "    </tr>\n",
       "    <tr>\n",
       "      <th>5</th>\n",
       "      <td>Children(Y/N)</td>\n",
       "      <td>-9.715811e-04</td>\n",
       "    </tr>\n",
       "    <tr>\n",
       "      <th>18</th>\n",
       "      <td>other_advisors</td>\n",
       "      <td>-2.492180e-03</td>\n",
       "    </tr>\n",
       "    <tr>\n",
       "      <th>22</th>\n",
       "      <td>comments</td>\n",
       "      <td>-6.573148e-03</td>\n",
       "    </tr>\n",
       "    <tr>\n",
       "      <th>4</th>\n",
       "      <td>Retired</td>\n",
       "      <td>-7.596595e-03</td>\n",
       "    </tr>\n",
       "    <tr>\n",
       "      <th>13</th>\n",
       "      <td>Systematic Risk</td>\n",
       "      <td>-9.744893e-03</td>\n",
       "    </tr>\n",
       "    <tr>\n",
       "      <th>7</th>\n",
       "      <td>Recency</td>\n",
       "      <td>-9.760070e-03</td>\n",
       "    </tr>\n",
       "    <tr>\n",
       "      <th>17</th>\n",
       "      <td>rating_trust</td>\n",
       "      <td>-1.969780e-02</td>\n",
       "    </tr>\n",
       "    <tr>\n",
       "      <th>8</th>\n",
       "      <td>Frequency</td>\n",
       "      <td>-2.455811e-02</td>\n",
       "    </tr>\n",
       "    <tr>\n",
       "      <th>12</th>\n",
       "      <td>Excess Return</td>\n",
       "      <td>-3.528741e-01</td>\n",
       "    </tr>\n",
       "  </tbody>\n",
       "</table>\n",
       "</div>"
      ],
      "text/plain": [
       "                         terms          coef\n",
       "25   InvestmentGoal_Short-term  6.165082e-01\n",
       "24   InvestmentGoal_Retirement  6.160333e-01\n",
       "23    InvestmentGoal_Education  6.151686e-01\n",
       "27  ModeCommunication_personal  4.646317e-01\n",
       "26     ModeCommunication_email  4.618824e-01\n",
       "28     ModeCommunication_phone  4.614558e-01\n",
       "29     ModeCommunication_skype  4.597402e-01\n",
       "11               Annual Return  7.417298e-02\n",
       "16               Financial_lit  1.725283e-03\n",
       "21                rating_avail  1.084903e-03\n",
       "6                       Tenure  2.176399e-04\n",
       "20                 rating_comm  3.539723e-05\n",
       "0                  CreditScore  3.796430e-06\n",
       "15               PortfolioSize -3.235004e-08\n",
       "3                  Advisor_Age -2.930462e-05\n",
       "14             NumberOfClients -4.944978e-05\n",
       "2                          Age -1.342116e-04\n",
       "19            rating_knowledge -3.048616e-04\n",
       "10       Small systematic Risk -3.128559e-04\n",
       "9                     Monetory -5.879907e-04\n",
       "1                       Gender -6.320248e-04\n",
       "5                Children(Y/N) -9.715811e-04\n",
       "18              other_advisors -2.492180e-03\n",
       "22                    comments -6.573148e-03\n",
       "4                      Retired -7.596595e-03\n",
       "13             Systematic Risk -9.744893e-03\n",
       "7                      Recency -9.760070e-03\n",
       "17                rating_trust -1.969780e-02\n",
       "8                    Frequency -2.455811e-02\n",
       "12               Excess Return -3.528741e-01"
      ]
     },
     "execution_count": 83,
     "metadata": {},
     "output_type": "execute_result"
    }
   ],
   "source": [
    "parameters.sort_values(by = 'coef',ascending=False)"
   ]
  },
  {
   "cell_type": "code",
   "execution_count": 84,
   "metadata": {},
   "outputs": [
    {
     "data": {
      "text/html": [
       "<div>\n",
       "<style scoped>\n",
       "    .dataframe tbody tr th:only-of-type {\n",
       "        vertical-align: middle;\n",
       "    }\n",
       "\n",
       "    .dataframe tbody tr th {\n",
       "        vertical-align: top;\n",
       "    }\n",
       "\n",
       "    .dataframe thead th {\n",
       "        text-align: right;\n",
       "    }\n",
       "</style>\n",
       "<table border=\"1\" class=\"dataframe\">\n",
       "  <thead>\n",
       "    <tr style=\"text-align: right;\">\n",
       "      <th></th>\n",
       "      <th>terms</th>\n",
       "      <th>coef</th>\n",
       "    </tr>\n",
       "  </thead>\n",
       "  <tbody>\n",
       "    <tr>\n",
       "      <th>23</th>\n",
       "      <td>InvestmentGoal_Education</td>\n",
       "      <td>6.169543e-01</td>\n",
       "    </tr>\n",
       "    <tr>\n",
       "      <th>25</th>\n",
       "      <td>InvestmentGoal_Short-term</td>\n",
       "      <td>6.156913e-01</td>\n",
       "    </tr>\n",
       "    <tr>\n",
       "      <th>24</th>\n",
       "      <td>InvestmentGoal_Retirement</td>\n",
       "      <td>6.142220e-01</td>\n",
       "    </tr>\n",
       "    <tr>\n",
       "      <th>27</th>\n",
       "      <td>ModeCommunication_personal</td>\n",
       "      <td>4.660953e-01</td>\n",
       "    </tr>\n",
       "    <tr>\n",
       "      <th>26</th>\n",
       "      <td>ModeCommunication_email</td>\n",
       "      <td>4.619592e-01</td>\n",
       "    </tr>\n",
       "    <tr>\n",
       "      <th>29</th>\n",
       "      <td>ModeCommunication_skype</td>\n",
       "      <td>4.597399e-01</td>\n",
       "    </tr>\n",
       "    <tr>\n",
       "      <th>28</th>\n",
       "      <td>ModeCommunication_phone</td>\n",
       "      <td>4.590731e-01</td>\n",
       "    </tr>\n",
       "    <tr>\n",
       "      <th>11</th>\n",
       "      <td>Annual Return</td>\n",
       "      <td>1.869150e-01</td>\n",
       "    </tr>\n",
       "    <tr>\n",
       "      <th>10</th>\n",
       "      <td>Small systematic Risk</td>\n",
       "      <td>9.695233e-03</td>\n",
       "    </tr>\n",
       "    <tr>\n",
       "      <th>18</th>\n",
       "      <td>other_advisors</td>\n",
       "      <td>2.493209e-03</td>\n",
       "    </tr>\n",
       "    <tr>\n",
       "      <th>19</th>\n",
       "      <td>rating_knowledge</td>\n",
       "      <td>2.150490e-03</td>\n",
       "    </tr>\n",
       "    <tr>\n",
       "      <th>20</th>\n",
       "      <td>rating_comm</td>\n",
       "      <td>3.729780e-04</td>\n",
       "    </tr>\n",
       "    <tr>\n",
       "      <th>9</th>\n",
       "      <td>Monetory</td>\n",
       "      <td>1.833604e-04</td>\n",
       "    </tr>\n",
       "    <tr>\n",
       "      <th>6</th>\n",
       "      <td>Tenure</td>\n",
       "      <td>1.780859e-04</td>\n",
       "    </tr>\n",
       "    <tr>\n",
       "      <th>14</th>\n",
       "      <td>NumberOfClients</td>\n",
       "      <td>1.266387e-04</td>\n",
       "    </tr>\n",
       "    <tr>\n",
       "      <th>16</th>\n",
       "      <td>Financial_lit</td>\n",
       "      <td>4.486865e-05</td>\n",
       "    </tr>\n",
       "    <tr>\n",
       "      <th>3</th>\n",
       "      <td>Advisor_Age</td>\n",
       "      <td>1.231097e-05</td>\n",
       "    </tr>\n",
       "    <tr>\n",
       "      <th>15</th>\n",
       "      <td>PortfolioSize</td>\n",
       "      <td>-8.076889e-09</td>\n",
       "    </tr>\n",
       "    <tr>\n",
       "      <th>0</th>\n",
       "      <td>CreditScore</td>\n",
       "      <td>-1.841814e-06</td>\n",
       "    </tr>\n",
       "    <tr>\n",
       "      <th>2</th>\n",
       "      <td>Age</td>\n",
       "      <td>-5.031411e-05</td>\n",
       "    </tr>\n",
       "    <tr>\n",
       "      <th>22</th>\n",
       "      <td>comments</td>\n",
       "      <td>-4.747705e-04</td>\n",
       "    </tr>\n",
       "    <tr>\n",
       "      <th>21</th>\n",
       "      <td>rating_avail</td>\n",
       "      <td>-5.543876e-04</td>\n",
       "    </tr>\n",
       "    <tr>\n",
       "      <th>1</th>\n",
       "      <td>Gender</td>\n",
       "      <td>-1.591815e-03</td>\n",
       "    </tr>\n",
       "    <tr>\n",
       "      <th>5</th>\n",
       "      <td>Children(Y/N)</td>\n",
       "      <td>-2.701442e-03</td>\n",
       "    </tr>\n",
       "    <tr>\n",
       "      <th>4</th>\n",
       "      <td>Retired</td>\n",
       "      <td>-6.014727e-03</td>\n",
       "    </tr>\n",
       "    <tr>\n",
       "      <th>7</th>\n",
       "      <td>Recency</td>\n",
       "      <td>-1.162066e-02</td>\n",
       "    </tr>\n",
       "    <tr>\n",
       "      <th>13</th>\n",
       "      <td>Systematic Risk</td>\n",
       "      <td>-1.231530e-02</td>\n",
       "    </tr>\n",
       "    <tr>\n",
       "      <th>17</th>\n",
       "      <td>rating_trust</td>\n",
       "      <td>-2.373441e-02</td>\n",
       "    </tr>\n",
       "    <tr>\n",
       "      <th>8</th>\n",
       "      <td>Frequency</td>\n",
       "      <td>-2.770515e-02</td>\n",
       "    </tr>\n",
       "    <tr>\n",
       "      <th>12</th>\n",
       "      <td>Excess Return</td>\n",
       "      <td>-6.768090e-01</td>\n",
       "    </tr>\n",
       "  </tbody>\n",
       "</table>\n",
       "</div>"
      ],
      "text/plain": [
       "                         terms          coef\n",
       "23    InvestmentGoal_Education  6.169543e-01\n",
       "25   InvestmentGoal_Short-term  6.156913e-01\n",
       "24   InvestmentGoal_Retirement  6.142220e-01\n",
       "27  ModeCommunication_personal  4.660953e-01\n",
       "26     ModeCommunication_email  4.619592e-01\n",
       "29     ModeCommunication_skype  4.597399e-01\n",
       "28     ModeCommunication_phone  4.590731e-01\n",
       "11               Annual Return  1.869150e-01\n",
       "10       Small systematic Risk  9.695233e-03\n",
       "18              other_advisors  2.493209e-03\n",
       "19            rating_knowledge  2.150490e-03\n",
       "20                 rating_comm  3.729780e-04\n",
       "9                     Monetory  1.833604e-04\n",
       "6                       Tenure  1.780859e-04\n",
       "14             NumberOfClients  1.266387e-04\n",
       "16               Financial_lit  4.486865e-05\n",
       "3                  Advisor_Age  1.231097e-05\n",
       "15               PortfolioSize -8.076889e-09\n",
       "0                  CreditScore -1.841814e-06\n",
       "2                          Age -5.031411e-05\n",
       "22                    comments -4.747705e-04\n",
       "21                rating_avail -5.543876e-04\n",
       "1                       Gender -1.591815e-03\n",
       "5                Children(Y/N) -2.701442e-03\n",
       "4                      Retired -6.014727e-03\n",
       "7                      Recency -1.162066e-02\n",
       "13             Systematic Risk -1.231530e-02\n",
       "17                rating_trust -2.373441e-02\n",
       "8                    Frequency -2.770515e-02\n",
       "12               Excess Return -6.768090e-01"
      ]
     },
     "execution_count": 84,
     "metadata": {},
     "output_type": "execute_result"
    }
   ],
   "source": [
    "cluster2_data = cluster2.drop(['REI'],axis =1)\n",
    "cluster2_y = cluster2['REI']\n",
    "from sklearn import linear_model\n",
    "reg1 = linear_model.LinearRegression(fit_intercept = False)\n",
    "reg1.fit(cluster2_data,cluster2_y)\n",
    "params = reg1.coef_\n",
    "predictions = reg1.predict(cluster2_data)\n",
    "parameters = pd.DataFrame({'terms': list(cluster2_data),'coef':params})\n",
    "parameters.sort_values(by = 'coef',ascending=False)"
   ]
  },
  {
   "cell_type": "code",
   "execution_count": 85,
   "metadata": {},
   "outputs": [
    {
     "data": {
      "text/html": [
       "<div>\n",
       "<style scoped>\n",
       "    .dataframe tbody tr th:only-of-type {\n",
       "        vertical-align: middle;\n",
       "    }\n",
       "\n",
       "    .dataframe tbody tr th {\n",
       "        vertical-align: top;\n",
       "    }\n",
       "\n",
       "    .dataframe thead th {\n",
       "        text-align: right;\n",
       "    }\n",
       "</style>\n",
       "<table border=\"1\" class=\"dataframe\">\n",
       "  <thead>\n",
       "    <tr style=\"text-align: right;\">\n",
       "      <th></th>\n",
       "      <th>terms</th>\n",
       "      <th>coef</th>\n",
       "    </tr>\n",
       "  </thead>\n",
       "  <tbody>\n",
       "    <tr>\n",
       "      <th>12</th>\n",
       "      <td>Excess Return</td>\n",
       "      <td>2.565908e+00</td>\n",
       "    </tr>\n",
       "    <tr>\n",
       "      <th>24</th>\n",
       "      <td>InvestmentGoal_Retirement</td>\n",
       "      <td>6.337518e-01</td>\n",
       "    </tr>\n",
       "    <tr>\n",
       "      <th>25</th>\n",
       "      <td>InvestmentGoal_Short-term</td>\n",
       "      <td>6.328686e-01</td>\n",
       "    </tr>\n",
       "    <tr>\n",
       "      <th>23</th>\n",
       "      <td>InvestmentGoal_Education</td>\n",
       "      <td>6.313228e-01</td>\n",
       "    </tr>\n",
       "    <tr>\n",
       "      <th>28</th>\n",
       "      <td>ModeCommunication_phone</td>\n",
       "      <td>4.764670e-01</td>\n",
       "    </tr>\n",
       "    <tr>\n",
       "      <th>29</th>\n",
       "      <td>ModeCommunication_skype</td>\n",
       "      <td>4.764516e-01</td>\n",
       "    </tr>\n",
       "    <tr>\n",
       "      <th>27</th>\n",
       "      <td>ModeCommunication_personal</td>\n",
       "      <td>4.737342e-01</td>\n",
       "    </tr>\n",
       "    <tr>\n",
       "      <th>26</th>\n",
       "      <td>ModeCommunication_email</td>\n",
       "      <td>4.712904e-01</td>\n",
       "    </tr>\n",
       "    <tr>\n",
       "      <th>13</th>\n",
       "      <td>Systematic Risk</td>\n",
       "      <td>2.256997e-02</td>\n",
       "    </tr>\n",
       "    <tr>\n",
       "      <th>4</th>\n",
       "      <td>Retired</td>\n",
       "      <td>3.443370e-03</td>\n",
       "    </tr>\n",
       "    <tr>\n",
       "      <th>19</th>\n",
       "      <td>rating_knowledge</td>\n",
       "      <td>2.539668e-03</td>\n",
       "    </tr>\n",
       "    <tr>\n",
       "      <th>18</th>\n",
       "      <td>other_advisors</td>\n",
       "      <td>2.155583e-03</td>\n",
       "    </tr>\n",
       "    <tr>\n",
       "      <th>5</th>\n",
       "      <td>Children(Y/N)</td>\n",
       "      <td>1.337378e-03</td>\n",
       "    </tr>\n",
       "    <tr>\n",
       "      <th>16</th>\n",
       "      <td>Financial_lit</td>\n",
       "      <td>6.535170e-04</td>\n",
       "    </tr>\n",
       "    <tr>\n",
       "      <th>14</th>\n",
       "      <td>NumberOfClients</td>\n",
       "      <td>2.619505e-04</td>\n",
       "    </tr>\n",
       "    <tr>\n",
       "      <th>20</th>\n",
       "      <td>rating_comm</td>\n",
       "      <td>1.857794e-04</td>\n",
       "    </tr>\n",
       "    <tr>\n",
       "      <th>0</th>\n",
       "      <td>CreditScore</td>\n",
       "      <td>2.323140e-06</td>\n",
       "    </tr>\n",
       "    <tr>\n",
       "      <th>15</th>\n",
       "      <td>PortfolioSize</td>\n",
       "      <td>1.296367e-07</td>\n",
       "    </tr>\n",
       "    <tr>\n",
       "      <th>3</th>\n",
       "      <td>Advisor_Age</td>\n",
       "      <td>-2.364100e-05</td>\n",
       "    </tr>\n",
       "    <tr>\n",
       "      <th>21</th>\n",
       "      <td>rating_avail</td>\n",
       "      <td>-3.459777e-05</td>\n",
       "    </tr>\n",
       "    <tr>\n",
       "      <th>6</th>\n",
       "      <td>Tenure</td>\n",
       "      <td>-2.498631e-04</td>\n",
       "    </tr>\n",
       "    <tr>\n",
       "      <th>2</th>\n",
       "      <td>Age</td>\n",
       "      <td>-3.492121e-04</td>\n",
       "    </tr>\n",
       "    <tr>\n",
       "      <th>9</th>\n",
       "      <td>Monetory</td>\n",
       "      <td>-6.757045e-04</td>\n",
       "    </tr>\n",
       "    <tr>\n",
       "      <th>10</th>\n",
       "      <td>Small systematic Risk</td>\n",
       "      <td>-2.693096e-03</td>\n",
       "    </tr>\n",
       "    <tr>\n",
       "      <th>22</th>\n",
       "      <td>comments</td>\n",
       "      <td>-3.106448e-03</td>\n",
       "    </tr>\n",
       "    <tr>\n",
       "      <th>1</th>\n",
       "      <td>Gender</td>\n",
       "      <td>-6.994359e-03</td>\n",
       "    </tr>\n",
       "    <tr>\n",
       "      <th>7</th>\n",
       "      <td>Recency</td>\n",
       "      <td>-9.152149e-03</td>\n",
       "    </tr>\n",
       "    <tr>\n",
       "      <th>17</th>\n",
       "      <td>rating_trust</td>\n",
       "      <td>-2.280648e-02</td>\n",
       "    </tr>\n",
       "    <tr>\n",
       "      <th>8</th>\n",
       "      <td>Frequency</td>\n",
       "      <td>-2.899805e-02</td>\n",
       "    </tr>\n",
       "    <tr>\n",
       "      <th>11</th>\n",
       "      <td>Annual Return</td>\n",
       "      <td>-5.604197e-01</td>\n",
       "    </tr>\n",
       "  </tbody>\n",
       "</table>\n",
       "</div>"
      ],
      "text/plain": [
       "                         terms          coef\n",
       "12               Excess Return  2.565908e+00\n",
       "24   InvestmentGoal_Retirement  6.337518e-01\n",
       "25   InvestmentGoal_Short-term  6.328686e-01\n",
       "23    InvestmentGoal_Education  6.313228e-01\n",
       "28     ModeCommunication_phone  4.764670e-01\n",
       "29     ModeCommunication_skype  4.764516e-01\n",
       "27  ModeCommunication_personal  4.737342e-01\n",
       "26     ModeCommunication_email  4.712904e-01\n",
       "13             Systematic Risk  2.256997e-02\n",
       "4                      Retired  3.443370e-03\n",
       "19            rating_knowledge  2.539668e-03\n",
       "18              other_advisors  2.155583e-03\n",
       "5                Children(Y/N)  1.337378e-03\n",
       "16               Financial_lit  6.535170e-04\n",
       "14             NumberOfClients  2.619505e-04\n",
       "20                 rating_comm  1.857794e-04\n",
       "0                  CreditScore  2.323140e-06\n",
       "15               PortfolioSize  1.296367e-07\n",
       "3                  Advisor_Age -2.364100e-05\n",
       "21                rating_avail -3.459777e-05\n",
       "6                       Tenure -2.498631e-04\n",
       "2                          Age -3.492121e-04\n",
       "9                     Monetory -6.757045e-04\n",
       "10       Small systematic Risk -2.693096e-03\n",
       "22                    comments -3.106448e-03\n",
       "1                       Gender -6.994359e-03\n",
       "7                      Recency -9.152149e-03\n",
       "17                rating_trust -2.280648e-02\n",
       "8                    Frequency -2.899805e-02\n",
       "11               Annual Return -5.604197e-01"
      ]
     },
     "execution_count": 85,
     "metadata": {},
     "output_type": "execute_result"
    }
   ],
   "source": [
    "cluster3_data = cluster3.drop(['REI'],axis =1)\n",
    "cluster3_y = cluster3['REI']\n",
    "from sklearn import linear_model\n",
    "reg1 = linear_model.LinearRegression(fit_intercept = False)\n",
    "reg1.fit(cluster3_data,cluster3_y)\n",
    "params = reg1.coef_\n",
    "predictions = reg1.predict(cluster3_data)\n",
    "parameters = pd.DataFrame({'terms': list(cluster3_data),'coef':params})\n",
    "parameters.sort_values(by = 'coef',ascending=False)"
   ]
  }
 ],
 "metadata": {
  "kernelspec": {
   "display_name": "Python 3",
   "language": "python",
   "name": "python3"
  },
  "language_info": {
   "codemirror_mode": {
    "name": "ipython",
    "version": 3
   },
   "file_extension": ".py",
   "mimetype": "text/x-python",
   "name": "python",
   "nbconvert_exporter": "python",
   "pygments_lexer": "ipython3",
   "version": "3.6.5"
  }
 },
 "nbformat": 4,
 "nbformat_minor": 2
}
